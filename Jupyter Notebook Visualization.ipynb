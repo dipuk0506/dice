{
 "cells": [
  {
   "cell_type": "markdown",
   "id": "872a6007",
   "metadata": {
    "papermill": {
     "duration": 0.010662,
     "end_time": "2024-06-21T06:42:42.940468",
     "exception": false,
     "start_time": "2024-06-21T06:42:42.929806",
     "status": "completed"
    },
    "tags": []
   },
   "source": [
    "## The Demonstration of Dice Rolling Functions"
   ]
  },
  {
   "cell_type": "markdown",
   "id": "7726ef6e",
   "metadata": {
    "papermill": {
     "duration": 0.008893,
     "end_time": "2024-06-21T06:42:42.958932",
     "exception": false,
     "start_time": "2024-06-21T06:42:42.950039",
     "status": "completed"
    },
    "tags": []
   },
   "source": [
    "### 1. Rolling N Sided Fair Dice K times"
   ]
  },
  {
   "cell_type": "code",
   "execution_count": 1,
   "id": "aa6a229f",
   "metadata": {
    "execution": {
     "iopub.execute_input": "2024-06-21T06:42:42.995306Z",
     "iopub.status.busy": "2024-06-21T06:42:42.994537Z",
     "iopub.status.idle": "2024-06-21T06:42:43.004308Z",
     "shell.execute_reply": "2024-06-21T06:42:43.004871Z",
     "shell.execute_reply.started": "2024-06-21T06:39:23.237335Z"
    },
    "papermill": {
     "duration": 0.037048,
     "end_time": "2024-06-21T06:42:43.005197",
     "exception": false,
     "start_time": "2024-06-21T06:42:42.968149",
     "status": "completed"
    },
    "tags": []
   },
   "outputs": [
    {
     "data": {
      "text/plain": [
       "'\\n# Extra code for the verification\\n\\ndist_index = outcome_of_rolling_n_sided_dice_k_time(6, 3)\\n\\nthe_range = range(int(dist_index[-2]), int(dist_index[-1]+1))\\nprobabilities =  dist_index[:-2]\\nprint(\"Indexes:\",the_range)\\n\\nprint(\"Distribution:\",probabilities, \"Their summation:\",np.sum(probabilities))\\n\\nimport matplotlib.pyplot as plt\\nplt.bar(the_range, probabilities)\\nplt.xlabel(\"Summation of Outcomes\")\\nplt.ylabel(\"Probabilities\")\\n\\n'"
      ]
     },
     "execution_count": 1,
     "metadata": {},
     "output_type": "execute_result"
    }
   ],
   "source": [
    "import numpy as np\n",
    "\n",
    "\n",
    "def outcome_of_rolling_n_sided_dice_k_time(n_side: int, k_time: int) -> float:\n",
    "    \"\"\"\n",
    "     The sum of outcomes for rolling an N-sided dice K times.\n",
    "\n",
    "     This function returns an array. The last two elements are the \n",
    "     range of probability distribution.\n",
    "     The range is: 'k_time' to 'k_time*n_side'\n",
    "\n",
    "     Other elements contain probabilities for getting a summation \n",
    "     from 'k_time' to 'k_time*n_side'.\n",
    "\n",
    "     Algorithm Explanation:\n",
    "\n",
    "     1. Explanation of range:\n",
    "     When we are rolling a six-sided dice the range becomes\n",
    "     1 to 6.\n",
    "     While rolling 5 times range becomes 5 to 30.\n",
    "     The sum outcomes become 5 when all rolling finds 1.\n",
    "     30 happens when all rolling finds 6.\n",
    "     1 is the minimum and 6 is the maximum of side values\n",
    "     for a 6 sided dice. Therefore, the range is 5 to 30.\n",
    "     Therefore, the range is k to n*k.\n",
    "\n",
    "     2. Explanation of probability distribution:\n",
    "     Say we are rolling a six-sided dice 2 times.\n",
    "     for 0 roll, the outcome is 0 with probability 1.\n",
    "     For the first roll, the outcome is 1 to 6 equally distributed.\n",
    "\n",
    "     For the second roll, each previous outcome (1-6) will face\n",
    "     an addition from the second rolling (1-6).\n",
    "     If the first outcome is (known) 3, then the probability of\n",
    "     getting each of 4 to 9 will be 1/6.\n",
    "\n",
    "     While rolling 2 dice simultaneously,\n",
    "     the sum becomes 2 for two 1 outcomes. But the sum becomes\n",
    "     3 for two different outcome combinations (1,2) and (2,1).\n",
    "     The probability of getting 2 is 1/36.\n",
    "     The probability of getting 3 is 2/36.\n",
    "\n",
    "     Link to rolling two 6-sided dice combinations:\n",
    "     https://www.thoughtco.com/\n",
    "     probabilities-of-rolling-two-dice-3126559\n",
    "     That phenomenon is the same as the convolution. \n",
    "\n",
    "     The algorithm can be used in playing games or solving \n",
    "     problems where the sum of multiple dice throwing is needed.\n",
    "\n",
    "\n",
    "     NB: a) We are assuming a fair dice\n",
    "     b) Bernoulli's theory works with getting the probability of\n",
    "     exactly 3 sixes while rolling 5 times. It does not work directly\n",
    "     with the sum. The same sum can come in many combinations.\n",
    "     Finding all of those combinations and applying Bernoulli\n",
    "     is more computationally extensive.\n",
    "     \n",
    "     I used that method in my paper to draw the distribution\n",
    "     Titled: Uncertainty-aware Decisions in Cloud Computing:\n",
    "     Foundations and Future Directions\n",
    "     Journal: ACM Computing Surveys (CSUR)\n",
    "     link: https://dl.acm.org/doi/abs/10.1145/3447583\n",
    "     The PDF version of the paper is available on Google Scholar.\n",
    "\n",
    "\n",
    "     >>> import numpy as np\n",
    "     >>> outcome_of_rolling_n_sided_dice_k_time(.2,.5)\n",
    "     Traceback (most recent call last):\n",
    "         ...\n",
    "     ValueError: The function only accepts integer values\n",
    "     >>> outcome_of_rolling_n_sided_dice_k_time(-1,5)\n",
    "     Traceback (most recent call last):\n",
    "         ...\n",
    "     ValueError: Side count should be more than 1\n",
    "     >>> outcome_of_rolling_n_sided_dice_k_time(3,-2)\n",
    "     Traceback (most recent call last):\n",
    "         ...\n",
    "     ValueError: Roll count should be more than 0\n",
    "\n",
    "     >>> outcome_of_rolling_n_sided_dice_k_time(2,2)\n",
    "     array([0.25, 0.5 , 0.25, 2.  , 4.  ])\n",
    "     >>> outcome_of_rolling_n_sided_dice_k_time(2,4)\n",
    "     array([0.0625, 0.25  , 0.375 , 0.25  , 0.0625, 4.    , 8.    ])\n",
    "\n",
    "    \"\"\"\n",
    "\n",
    "    if n_side != int(n_side) or k_time != int(k_time):\n",
    "        raise ValueError(\"The function only accepts integer values\")\n",
    "    if n_side < 2:\n",
    "        raise ValueError(\"Side count should be more than 1\")\n",
    "    if k_time < 1:\n",
    "        raise ValueError(\"Roll count should be more than 0\")\n",
    "    if k_time > 100 or n_side > 100:\n",
    "        raise ValueError(\"Limited to 100 sides or rolling to avoid memory issues\")\n",
    "\n",
    "    prob_dist = 1\n",
    "    dist_step = np.ones(n_side, dtype=float) / n_side\n",
    "\n",
    "    iter1 = 0\n",
    "    while iter1 < k_time:\n",
    "        prob_dist = np.convolve(prob_dist, dist_step)\n",
    "        iter1 = iter1 + 1\n",
    "        \n",
    "    prob_index = np.concatenate((prob_dist, np.array([k_time, k_time*n_side])))\n",
    "\n",
    "    return prob_index\n",
    "\n",
    "\n",
    "\"\"\"\n",
    "# Extra code for the verification\n",
    "\n",
    "dist_index = outcome_of_rolling_n_sided_dice_k_time(6, 3)\n",
    "\n",
    "the_range = range(int(dist_index[-2]), int(dist_index[-1]+1))\n",
    "probabilities =  dist_index[:-2]\n",
    "print(\"Indexes:\",the_range)\n",
    "\n",
    "print(\"Distribution:\",probabilities, \"Their summation:\",np.sum(probabilities))\n",
    "\n",
    "import matplotlib.pyplot as plt\n",
    "plt.bar(the_range, probabilities)\n",
    "plt.xlabel(\"Summation of Outcomes\")\n",
    "plt.ylabel(\"Probabilities\")\n",
    "\n",
    "\"\"\"\n"
   ]
  },
  {
   "cell_type": "markdown",
   "id": "76c785ac",
   "metadata": {
    "papermill": {
     "duration": 0.009153,
     "end_time": "2024-06-21T06:42:43.024311",
     "exception": false,
     "start_time": "2024-06-21T06:42:43.015158",
     "status": "completed"
    },
    "tags": []
   },
   "source": [
    "### 2. Rolling N Sided Fair Dice K times: Investigation and Visualization with Plotting"
   ]
  },
  {
   "cell_type": "code",
   "execution_count": 2,
   "id": "ec892b6e",
   "metadata": {
    "execution": {
     "iopub.execute_input": "2024-06-21T06:42:43.051425Z",
     "iopub.status.busy": "2024-06-21T06:42:43.050289Z",
     "iopub.status.idle": "2024-06-21T06:42:43.329476Z",
     "shell.execute_reply": "2024-06-21T06:42:43.328716Z",
     "shell.execute_reply.started": "2024-06-21T06:39:23.278261Z"
    },
    "papermill": {
     "duration": 0.295687,
     "end_time": "2024-06-21T06:42:43.329646",
     "exception": false,
     "start_time": "2024-06-21T06:42:43.033959",
     "status": "completed"
    },
    "tags": []
   },
   "outputs": [
    {
     "name": "stdout",
     "output_type": "stream",
     "text": [
      "Indexes: range(3, 19)\n",
      "Distribution: [0.00462963 0.01388889 0.02777778 0.0462963  0.06944444 0.09722222\n",
      " 0.11574074 0.125      0.125      0.11574074 0.09722222 0.06944444\n",
      " 0.0462963  0.02777778 0.01388889 0.00462963] Their summation: 1.0\n"
     ]
    },
    {
     "data": {
      "text/plain": [
       "Text(0, 0.5, 'Probabilities')"
      ]
     },
     "execution_count": 2,
     "metadata": {},
     "output_type": "execute_result"
    },
    {
     "data": {
      "image/png": "[encoded data removed]",
      "text/plain": [
       "<Figure size 432x288 with 1 Axes>"
      ]
     },
     "metadata": {
      "needs_background": "light"
     },
     "output_type": "display_data"
    }
   ],
   "source": [
    "dist_index = outcome_of_rolling_n_sided_dice_k_time(6, 3)\n",
    "\n",
    "the_range = range(int(dist_index[-2]), int(dist_index[-1]+1))\n",
    "probabilities =  dist_index[:-2]\n",
    "print(\"Indexes:\",the_range)\n",
    "\n",
    "print(\"Distribution:\",probabilities, \"Their summation:\",np.sum(probabilities))\n",
    "\n",
    "import matplotlib.pyplot as plt\n",
    "plt.bar(the_range, probabilities)\n",
    "plt.xlabel(\"Summation of Outcomes\")\n",
    "plt.ylabel(\"Probabilities\")"
   ]
  },
  {
   "cell_type": "code",
   "execution_count": 3,
   "id": "37ac843b",
   "metadata": {
    "execution": {
     "iopub.execute_input": "2024-06-21T06:42:43.362238Z",
     "iopub.status.busy": "2024-06-21T06:42:43.361356Z",
     "iopub.status.idle": "2024-06-21T06:42:43.364541Z",
     "shell.execute_reply": "2024-06-21T06:42:43.365078Z",
     "shell.execute_reply.started": "2024-06-21T06:39:23.580025Z"
    },
    "papermill": {
     "duration": 0.022845,
     "end_time": "2024-06-21T06:42:43.365260",
     "exception": false,
     "start_time": "2024-06-21T06:42:43.342415",
     "status": "completed"
    },
    "tags": []
   },
   "outputs": [
    {
     "data": {
      "text/plain": [
       "array([ 0.015625,  0.046875,  0.09375 ,  0.15625 ,  0.1875  ,  0.1875  ,\n",
       "        0.15625 ,  0.09375 ,  0.046875,  0.015625,  3.      , 12.      ])"
      ]
     },
     "execution_count": 3,
     "metadata": {},
     "output_type": "execute_result"
    }
   ],
   "source": [
    "outcome_of_rolling_n_sided_dice_k_time(4,3)"
   ]
  },
  {
   "cell_type": "markdown",
   "id": "bff99322",
   "metadata": {
    "papermill": {
     "duration": 0.01061,
     "end_time": "2024-06-21T06:42:43.386975",
     "exception": false,
     "start_time": "2024-06-21T06:42:43.376365",
     "status": "completed"
    },
    "tags": []
   },
   "source": [
    "### 3. Rolling N Sided Unfair Dice K times"
   ]
  },
  {
   "cell_type": "code",
   "execution_count": 4,
   "id": "ba20b3ad",
   "metadata": {
    "execution": {
     "iopub.execute_input": "2024-06-21T06:42:43.417968Z",
     "iopub.status.busy": "2024-06-21T06:42:43.416866Z",
     "iopub.status.idle": "2024-06-21T06:42:43.419598Z",
     "shell.execute_reply": "2024-06-21T06:42:43.418948Z",
     "shell.execute_reply.started": "2024-06-21T06:39:23.590400Z"
    },
    "papermill": {
     "duration": 0.021784,
     "end_time": "2024-06-21T06:42:43.419742",
     "exception": false,
     "start_time": "2024-06-21T06:42:43.397958",
     "status": "completed"
    },
    "tags": []
   },
   "outputs": [],
   "source": [
    "import numpy as np\n",
    "\n",
    "\n",
    "def outcome_of_rolling_unfair_dice_k_time(dist_prob_1: float, k_time: int) -> float:\n",
    "    \n",
    "    \"\"\"\n",
    "     The sum of outcomes for rolling an unfair dice K times.\n",
    "\n",
    "     This function returns an array. The last two elements are the \n",
    "     range of probability distribution.\n",
    "     The range is: 'k_time' to 'k_time*(number_of_sides)'\n",
    "\n",
    "     Other elements contain probabilities for getting a summation \n",
    "     from 'k_time' to 'k_time*(number_of_sides)'.\n",
    "\n",
    "    \"\"\"\n",
    "    \n",
    "    if k_time != int(k_time):\n",
    "        raise ValueError(\"The function only accepts integer values of k\")\n",
    "    if len(dist_prob_1) < 2:\n",
    "        raise ValueError(\"The number of sides should be more than 1\")\n",
    "    if k_time < 1:\n",
    "        raise ValueError(\"Roll count should be more than 0\")\n",
    "    if k_time > 100 or len(dist_prob_1) > 100:\n",
    "        raise ValueError(\"Limited to 100 sides or rolling to avoid memory issues\")\n",
    "        \n",
    "    prob_dist = 1\n",
    "    iter1 = 0\n",
    "    while iter1 < k_time:\n",
    "        prob_dist = np.convolve(prob_dist, dist_prob_1)\n",
    "        iter1 = iter1 + 1\n",
    "        \n",
    "    prob_index = np.concatenate((prob_dist, np.array([k_time, k_time*len(dist_prob_1)])))\n",
    "\n",
    "    return prob_index"
   ]
  },
  {
   "cell_type": "markdown",
   "id": "8b829c22",
   "metadata": {
    "papermill": {
     "duration": 0.010706,
     "end_time": "2024-06-21T06:42:43.441466",
     "exception": false,
     "start_time": "2024-06-21T06:42:43.430760",
     "status": "completed"
    },
    "tags": []
   },
   "source": [
    "### 4. Rolling N Sided Unfair Dice K times: Investigation"
   ]
  },
  {
   "cell_type": "code",
   "execution_count": 5,
   "id": "322e4fe3",
   "metadata": {
    "execution": {
     "iopub.execute_input": "2024-06-21T06:42:43.470003Z",
     "iopub.status.busy": "2024-06-21T06:42:43.469203Z",
     "iopub.status.idle": "2024-06-21T06:42:43.473042Z",
     "shell.execute_reply": "2024-06-21T06:42:43.472361Z",
     "shell.execute_reply.started": "2024-06-21T06:39:23.600494Z"
    },
    "papermill": {
     "duration": 0.020518,
     "end_time": "2024-06-21T06:42:43.473196",
     "exception": false,
     "start_time": "2024-06-21T06:42:43.452678",
     "status": "completed"
    },
    "tags": []
   },
   "outputs": [
    {
     "data": {
      "text/plain": [
       "array([0.008, 0.096, 0.384, 0.512, 3.   , 6.   ])"
      ]
     },
     "execution_count": 5,
     "metadata": {},
     "output_type": "execute_result"
    }
   ],
   "source": [
    "outcome_of_rolling_unfair_dice_k_time([.2, .8], 3)"
   ]
  },
  {
   "cell_type": "markdown",
   "id": "66a0ca6c",
   "metadata": {
    "papermill": {
     "duration": 0.011034,
     "end_time": "2024-06-21T06:42:43.495727",
     "exception": false,
     "start_time": "2024-06-21T06:42:43.484693",
     "status": "completed"
    },
    "tags": []
   },
   "source": [
    "### 5. Probability of Getting N Heads for M Number of Tossing \n",
    "\n",
    "#### Here, 0 for tail and 1 for head."
   ]
  },
  {
   "cell_type": "code",
   "execution_count": 6,
   "id": "094781a4",
   "metadata": {
    "execution": {
     "iopub.execute_input": "2024-06-21T06:42:43.530807Z",
     "iopub.status.busy": "2024-06-21T06:42:43.530008Z",
     "iopub.status.idle": "2024-06-21T06:42:43.533474Z",
     "shell.execute_reply": "2024-06-21T06:42:43.534036Z",
     "shell.execute_reply.started": "2024-06-21T06:39:23.613718Z"
    },
    "papermill": {
     "duration": 0.02723,
     "end_time": "2024-06-21T06:42:43.534228",
     "exception": false,
     "start_time": "2024-06-21T06:42:43.506998",
     "status": "completed"
    },
    "tags": []
   },
   "outputs": [
    {
     "data": {
      "text/plain": [
       "0.25"
      ]
     },
     "execution_count": 6,
     "metadata": {},
     "output_type": "execute_result"
    }
   ],
   "source": [
    "import numpy as np\n",
    "\n",
    "\n",
    "def probability_of_n_heads_in_m_tossing(head_count: int, toss_count: int) -> float:\n",
    "    \"\"\"\n",
    "   The probability of getting exactly n heads in m tossing.\n",
    "\n",
    "    Algorithm Explanation:\n",
    "    If you toss 0 time -> 0 head\n",
    "    Distribution [1] -> Meaning: 1 in the 0-index\n",
    "\n",
    "    If you toss 1 time -> 0 or 1 head\n",
    "    Distribution [0.5 0.5] -> Meaning: 0.5 in both indexes\n",
    "\n",
    "    If you toss 2 times -> 0 to 2 heads\n",
    "    Distribution [0.25 0.5 0.25] ->\n",
    "    Meaning:  probability of n heads from the distribution\n",
    "    {HH, HT, TH, TT}\n",
    "\n",
    "    If you toss 3 times -> 0 to 3 heads\n",
    "    Distribution [0.125 0.375 0.375 0.125] ->\n",
    "    Meaning:  probability of n heads from the distribution\n",
    "    {HHH, HHT, HTH, HTT, THH, THT, TTH, TTT}\n",
    "\n",
    "    Therefore,\n",
    "    Probability_distribution(N+1) =\n",
    "          [Probability_distribution(N) 0]/2 + [0 Probability_distribution(N)]/2\n",
    "\n",
    "    I used that method in my paper\n",
    "    Titled: Uncertainty-aware Decisions in Cloud Computing:\n",
    "    Foundations and Future Directions\n",
    "    Journal: ACM Computing Surveys (CSUR)\n",
    "\n",
    "    >>> import numpy as np\n",
    "    >>> probability_of_n_heads_in_m_tossing(.2,.5)\n",
    "    Traceback (most recent call last):\n",
    "        ...\n",
    "    ValueError: The function only accepts integer values\n",
    "    >>> probability_of_n_heads_in_m_tossing(-1,5)\n",
    "    Traceback (most recent call last):\n",
    "        ...\n",
    "    ValueError: The function is not defined for negative values\n",
    "    >>> probability_of_n_heads_in_m_tossing(3,2)\n",
    "    Traceback (most recent call last):\n",
    "        ...\n",
    "    ValueError: Head count should be smaller than toss count\n",
    "\n",
    "    >>> probability_of_n_heads_in_m_tossing(1,1)\n",
    "    0.5\n",
    "    >>> probability_of_n_heads_in_m_tossing(0,2)\n",
    "    0.25\n",
    "    >>> probability_of_n_heads_in_m_tossing(2,3)\n",
    "    0.375\n",
    "    \"\"\"\n",
    "    if head_count != int(head_count) or toss_count != int(toss_count):\n",
    "        raise ValueError(\"The function only accepts integer values\")\n",
    "    if head_count < 0 or toss_count < 0:\n",
    "        raise ValueError(\"The function only accepts positive values\")\n",
    "    if head_count > toss_count:\n",
    "        raise ValueError(\"Head count should be smaller than toss count\")\n",
    "    if toss_count > 100:\n",
    "        raise ValueError(\"Limited to 100 tossing to avoid memory issues\")\n",
    "\n",
    "    value = np.ones(1)\n",
    "\n",
    "    iter1 = 0\n",
    "    while iter1 < toss_count:\n",
    "        value = np.append(value, [0], axis=0) + np.append([0], value, axis=0)\n",
    "        value = value / 2\n",
    "        iter1 = iter1 + 1\n",
    "\n",
    "    return value[head_count]\n",
    "\n",
    "probability_of_n_heads_in_m_tossing(2,2)"
   ]
  }
 ],
 "metadata": {
  "kaggle": {
   "accelerator": "none",
   "dataSources": [
    {
     "sourceId": 83733375,
     "sourceType": "kernelVersion"
    }
   ],
   "dockerImageVersionId": 30152,
   "isGpuEnabled": false,
   "isInternetEnabled": true,
   "language": "python",
   "sourceType": "notebook"
  },
  "kernelspec": {
   "display_name": "Python 3",
   "language": "python",
   "name": "python3"
  },
  "language_info": {
   "codemirror_mode": {
    "name": "ipython",
    "version": 3
   },
   "file_extension": ".py",
   "mimetype": "text/x-python",
   "name": "python",
   "nbconvert_exporter": "python",
   "pygments_lexer": "ipython3",
   "version": "3.7.12"
  },
  "papermill": {
   "default_parameters": {},
   "duration": 10.902217,
   "end_time": "2024-06-21T06:42:44.157564",
   "environment_variables": {},
   "exception": null,
   "input_path": "__notebook__.ipynb",
   "output_path": "__notebook__.ipynb",
   "parameters": {},
   "start_time": "2024-06-21T06:42:33.255347",
   "version": "2.3.3"
  }
 },
 "nbformat": 4,
 "nbformat_minor": 5
}
